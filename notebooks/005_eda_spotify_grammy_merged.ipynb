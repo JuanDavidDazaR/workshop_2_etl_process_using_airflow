{
 "cells": [
  {
   "cell_type": "code",
   "execution_count": 1,
   "id": "a9e365a6",
   "metadata": {},
   "outputs": [],
   "source": [
    "import pandas as pd\n",
    "import seaborn as sns\n",
    "import matplotlib.pyplot as plt\n",
    "import numpy as np"
   ]
  },
  {
   "cell_type": "code",
   "execution_count": null,
   "id": "ddff5711",
   "metadata": {},
   "outputs": [],
   "source": []
  },
  {
   "cell_type": "code",
   "execution_count": 2,
   "id": "23fec65e",
   "metadata": {},
   "outputs": [
    {
     "name": "stderr",
     "output_type": "stream",
     "text": [
      "/tmp/ipykernel_183294/1867949302.py:1: DtypeWarning: Columns (26,27,28,29,33,34,35,36) have mixed types. Specify dtype option on import or set low_memory=False.\n",
      "  df = pd.read_csv('../data/2_final/spotify_grammy_merged.csv')\n"
     ]
    },
    {
     "data": {
      "text/html": [
       "<div>\n",
       "<style scoped>\n",
       "    .dataframe tbody tr th:only-of-type {\n",
       "        vertical-align: middle;\n",
       "    }\n",
       "\n",
       "    .dataframe tbody tr th {\n",
       "        vertical-align: top;\n",
       "    }\n",
       "\n",
       "    .dataframe thead th {\n",
       "        text-align: right;\n",
       "    }\n",
       "</style>\n",
       "<table border=\"1\" class=\"dataframe\">\n",
       "  <thead>\n",
       "    <tr style=\"text-align: right;\">\n",
       "      <th></th>\n",
       "      <th>track_id</th>\n",
       "      <th>track_genre</th>\n",
       "      <th>artists</th>\n",
       "      <th>album_name</th>\n",
       "      <th>track_name</th>\n",
       "      <th>popularity</th>\n",
       "      <th>duration_ms</th>\n",
       "      <th>explicit</th>\n",
       "      <th>danceability</th>\n",
       "      <th>energy</th>\n",
       "      <th>...</th>\n",
       "      <th>sort_name</th>\n",
       "      <th>type</th>\n",
       "      <th>country</th>\n",
       "      <th>begin_area</th>\n",
       "      <th>begin_date</th>\n",
       "      <th>end_date</th>\n",
       "      <th>genres</th>\n",
       "      <th>tags</th>\n",
       "      <th>release_groups</th>\n",
       "      <th>timestamp</th>\n",
       "    </tr>\n",
       "  </thead>\n",
       "  <tbody>\n",
       "    <tr>\n",
       "      <th>0</th>\n",
       "      <td>0000vdREvCVMxbQTkS888c</td>\n",
       "      <td>german</td>\n",
       "      <td>rill</td>\n",
       "      <td>Lolly</td>\n",
       "      <td>Lolly</td>\n",
       "      <td>44</td>\n",
       "      <td>160725</td>\n",
       "      <td>True</td>\n",
       "      <td>0.910</td>\n",
       "      <td>0.374</td>\n",
       "      <td>...</td>\n",
       "      <td>NaN</td>\n",
       "      <td>NaN</td>\n",
       "      <td>NaN</td>\n",
       "      <td>NaN</td>\n",
       "      <td>NaN</td>\n",
       "      <td>NaN</td>\n",
       "      <td>NaN</td>\n",
       "      <td>NaN</td>\n",
       "      <td>NaN</td>\n",
       "      <td>NaN</td>\n",
       "    </tr>\n",
       "    <tr>\n",
       "      <th>1</th>\n",
       "      <td>000CC8EParg64OmTxVnZ0p</td>\n",
       "      <td>club</td>\n",
       "      <td>glee cast</td>\n",
       "      <td>Glee Love Songs</td>\n",
       "      <td>It's All Coming Back To Me Now (Glee Cast Vers...</td>\n",
       "      <td>47</td>\n",
       "      <td>322933</td>\n",
       "      <td>False</td>\n",
       "      <td>0.269</td>\n",
       "      <td>0.516</td>\n",
       "      <td>...</td>\n",
       "      <td>NaN</td>\n",
       "      <td>NaN</td>\n",
       "      <td>NaN</td>\n",
       "      <td>NaN</td>\n",
       "      <td>NaN</td>\n",
       "      <td>NaN</td>\n",
       "      <td>NaN</td>\n",
       "      <td>NaN</td>\n",
       "      <td>NaN</td>\n",
       "      <td>NaN</td>\n",
       "    </tr>\n",
       "    <tr>\n",
       "      <th>2</th>\n",
       "      <td>000Iz0K615UepwSJ5z2RE5</td>\n",
       "      <td>minimal-techno</td>\n",
       "      <td>paul kalkbrenner;pig&amp;dan</td>\n",
       "      <td>X</td>\n",
       "      <td>Böxig Leise - Pig &amp; Dan Remix</td>\n",
       "      <td>22</td>\n",
       "      <td>515360</td>\n",
       "      <td>False</td>\n",
       "      <td>0.686</td>\n",
       "      <td>0.560</td>\n",
       "      <td>...</td>\n",
       "      <td>NaN</td>\n",
       "      <td>NaN</td>\n",
       "      <td>NaN</td>\n",
       "      <td>NaN</td>\n",
       "      <td>NaN</td>\n",
       "      <td>NaN</td>\n",
       "      <td>NaN</td>\n",
       "      <td>NaN</td>\n",
       "      <td>NaN</td>\n",
       "      <td>NaN</td>\n",
       "    </tr>\n",
       "    <tr>\n",
       "      <th>3</th>\n",
       "      <td>000RDCYioLteXcutOjeweY</td>\n",
       "      <td>hip-hop</td>\n",
       "      <td>jordan sandhu</td>\n",
       "      <td>Teeje Week</td>\n",
       "      <td>Teeje Week</td>\n",
       "      <td>62</td>\n",
       "      <td>190203</td>\n",
       "      <td>False</td>\n",
       "      <td>0.679</td>\n",
       "      <td>0.770</td>\n",
       "      <td>...</td>\n",
       "      <td>NaN</td>\n",
       "      <td>NaN</td>\n",
       "      <td>NaN</td>\n",
       "      <td>NaN</td>\n",
       "      <td>NaN</td>\n",
       "      <td>NaN</td>\n",
       "      <td>NaN</td>\n",
       "      <td>NaN</td>\n",
       "      <td>NaN</td>\n",
       "      <td>NaN</td>\n",
       "    </tr>\n",
       "    <tr>\n",
       "      <th>4</th>\n",
       "      <td>000qpdoc97IMTBvF8gwcpy</td>\n",
       "      <td>minimal-techno</td>\n",
       "      <td>paul kalkbrenner</td>\n",
       "      <td>Zeit</td>\n",
       "      <td>Tief</td>\n",
       "      <td>19</td>\n",
       "      <td>331240</td>\n",
       "      <td>False</td>\n",
       "      <td>0.519</td>\n",
       "      <td>0.431</td>\n",
       "      <td>...</td>\n",
       "      <td>NaN</td>\n",
       "      <td>NaN</td>\n",
       "      <td>NaN</td>\n",
       "      <td>NaN</td>\n",
       "      <td>NaN</td>\n",
       "      <td>NaN</td>\n",
       "      <td>NaN</td>\n",
       "      <td>NaN</td>\n",
       "      <td>NaN</td>\n",
       "      <td>NaN</td>\n",
       "    </tr>\n",
       "  </tbody>\n",
       "</table>\n",
       "<p>5 rows × 37 columns</p>\n",
       "</div>"
      ],
      "text/plain": [
       "                 track_id     track_genre                   artists  \\\n",
       "0  0000vdREvCVMxbQTkS888c          german                      rill   \n",
       "1  000CC8EParg64OmTxVnZ0p            club                 glee cast   \n",
       "2  000Iz0K615UepwSJ5z2RE5  minimal-techno  paul kalkbrenner;pig&dan   \n",
       "3  000RDCYioLteXcutOjeweY         hip-hop             jordan sandhu   \n",
       "4  000qpdoc97IMTBvF8gwcpy  minimal-techno          paul kalkbrenner   \n",
       "\n",
       "        album_name                                         track_name  \\\n",
       "0            Lolly                                              Lolly   \n",
       "1  Glee Love Songs  It's All Coming Back To Me Now (Glee Cast Vers...   \n",
       "2                X                      Böxig Leise - Pig & Dan Remix   \n",
       "3       Teeje Week                                         Teeje Week   \n",
       "4             Zeit                                               Tief   \n",
       "\n",
       "   popularity  duration_ms  explicit  danceability  energy  ...  sort_name  \\\n",
       "0          44       160725      True         0.910   0.374  ...        NaN   \n",
       "1          47       322933     False         0.269   0.516  ...        NaN   \n",
       "2          22       515360     False         0.686   0.560  ...        NaN   \n",
       "3          62       190203     False         0.679   0.770  ...        NaN   \n",
       "4          19       331240     False         0.519   0.431  ...        NaN   \n",
       "\n",
       "   type  country  begin_area  begin_date  end_date  genres  tags  \\\n",
       "0   NaN      NaN         NaN         NaN       NaN     NaN   NaN   \n",
       "1   NaN      NaN         NaN         NaN       NaN     NaN   NaN   \n",
       "2   NaN      NaN         NaN         NaN       NaN     NaN   NaN   \n",
       "3   NaN      NaN         NaN         NaN       NaN     NaN   NaN   \n",
       "4   NaN      NaN         NaN         NaN       NaN     NaN   NaN   \n",
       "\n",
       "   release_groups  timestamp  \n",
       "0             NaN        NaN  \n",
       "1             NaN        NaN  \n",
       "2             NaN        NaN  \n",
       "3             NaN        NaN  \n",
       "4             NaN        NaN  \n",
       "\n",
       "[5 rows x 37 columns]"
      ]
     },
     "execution_count": 2,
     "metadata": {},
     "output_type": "execute_result"
    }
   ],
   "source": [
    "df = pd.read_csv('../data/2_final/spotify_grammy_merged.csv')\n",
    "df.head()"
   ]
  },
  {
   "cell_type": "code",
   "execution_count": 3,
   "metadata": {},
   "outputs": [
    {
     "name": "stdout",
     "output_type": "stream",
     "text": [
      "<class 'pandas.core.frame.DataFrame'>\n",
      "RangeIndex: 92166 entries, 0 to 92165\n",
      "Data columns (total 37 columns):\n",
      " #   Column               Non-Null Count  Dtype  \n",
      "---  ------               --------------  -----  \n",
      " 0   track_id             92166 non-null  object \n",
      " 1   track_genre          92166 non-null  object \n",
      " 2   artists              92166 non-null  object \n",
      " 3   album_name           92166 non-null  object \n",
      " 4   track_name           92166 non-null  object \n",
      " 5   popularity           92166 non-null  int64  \n",
      " 6   duration_ms          92166 non-null  int64  \n",
      " 7   explicit             92166 non-null  bool   \n",
      " 8   danceability         92166 non-null  float64\n",
      " 9   energy               92166 non-null  float64\n",
      " 10  key                  92166 non-null  int64  \n",
      " 11  loudness             92166 non-null  float64\n",
      " 12  mode                 92166 non-null  int64  \n",
      " 13  speechiness          92166 non-null  float64\n",
      " 14  acousticness         92166 non-null  float64\n",
      " 15  instrumentalness     92166 non-null  float64\n",
      " 16  liveness             92166 non-null  float64\n",
      " 17  valence              92166 non-null  float64\n",
      " 18  tempo                92166 non-null  float64\n",
      " 19  time_signature       92166 non-null  int64  \n",
      " 20  popularity_category  92166 non-null  object \n",
      " 21  year                 4648 non-null   float64\n",
      " 22  title                4648 non-null   object \n",
      " 23  category             4648 non-null   object \n",
      " 24  nominee              4648 non-null   object \n",
      " 25  winner               92166 non-null  bool   \n",
      " 26  artist_id            6 non-null      object \n",
      " 27  sort_name            6 non-null      object \n",
      " 28  type                 2 non-null      object \n",
      " 29  country              2 non-null      object \n",
      " 30  begin_area           0 non-null      float64\n",
      " 31  begin_date           0 non-null      float64\n",
      " 32  end_date             0 non-null      float64\n",
      " 33  genres               2 non-null      object \n",
      " 34  tags                 2 non-null      object \n",
      " 35  release_groups       6 non-null      object \n",
      " 36  timestamp            6 non-null      object \n",
      "dtypes: bool(2), float64(13), int64(5), object(17)\n",
      "memory usage: 24.8+ MB\n"
     ]
    }
   ],
   "source": [
    "df.info()"
   ]
  },
  {
   "cell_type": "code",
   "execution_count": 4,
   "id": "a119e223",
   "metadata": {},
   "outputs": [
    {
     "data": {
      "text/plain": [
       "winner\n",
       "False    87518\n",
       "True      4648\n",
       "Name: count, dtype: int64"
      ]
     },
     "execution_count": 4,
     "metadata": {},
     "output_type": "execute_result"
    }
   ],
   "source": [
    "df['winner'].value_counts()\n"
   ]
  },
  {
   "cell_type": "code",
   "execution_count": 5,
   "id": "d6299410",
   "metadata": {},
   "outputs": [
    {
     "data": {
      "text/plain": [
       "(92166, 37)"
      ]
     },
     "execution_count": 5,
     "metadata": {},
     "output_type": "execute_result"
    }
   ],
   "source": [
    "df.shape"
   ]
  },
  {
   "cell_type": "code",
   "execution_count": 6,
   "metadata": {},
   "outputs": [
    {
     "data": {
      "text/plain": [
       "array([nan, 'DO'], dtype=object)"
      ]
     },
     "execution_count": 6,
     "metadata": {},
     "output_type": "execute_result"
    }
   ],
   "source": [
    "values = df[\"country\"].unique()\n",
    "values"
   ]
  }
 ],
 "metadata": {
  "kernelspec": {
   "display_name": "venv",
   "language": "python",
   "name": "python3"
  },
  "language_info": {
   "codemirror_mode": {
    "name": "ipython",
    "version": 3
   },
   "file_extension": ".py",
   "mimetype": "text/x-python",
   "name": "python",
   "nbconvert_exporter": "python",
   "pygments_lexer": "ipython3",
   "version": "3.12.3"
  }
 },
 "nbformat": 4,
 "nbformat_minor": 5
}
