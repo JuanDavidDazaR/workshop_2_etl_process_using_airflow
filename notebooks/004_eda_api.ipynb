{
 "cells": [
  {
   "cell_type": "code",
   "execution_count": 106,
   "id": "db89e857",
   "metadata": {},
   "outputs": [],
   "source": [
    "import pandas as pd\n",
    "import seaborn as sns\n",
    "import matplotlib.pyplot as plt\n",
    "import numpy as np"
   ]
  },
  {
   "cell_type": "code",
   "execution_count": 107,
   "id": "f67a7033",
   "metadata": {},
   "outputs": [
    {
     "data": {
      "text/html": [
       "<div>\n",
       "<style scoped>\n",
       "    .dataframe tbody tr th:only-of-type {\n",
       "        vertical-align: middle;\n",
       "    }\n",
       "\n",
       "    .dataframe tbody tr th {\n",
       "        vertical-align: top;\n",
       "    }\n",
       "\n",
       "    .dataframe thead th {\n",
       "        text-align: right;\n",
       "    }\n",
       "</style>\n",
       "<table border=\"1\" class=\"dataframe\">\n",
       "  <thead>\n",
       "    <tr style=\"text-align: right;\">\n",
       "      <th></th>\n",
       "      <th>artist_id</th>\n",
       "      <th>name</th>\n",
       "      <th>sort_name</th>\n",
       "      <th>type</th>\n",
       "      <th>country</th>\n",
       "      <th>begin_area</th>\n",
       "      <th>begin_date</th>\n",
       "      <th>end_date</th>\n",
       "      <th>genres</th>\n",
       "      <th>tags</th>\n",
       "      <th>release_groups</th>\n",
       "      <th>timestamp</th>\n",
       "    </tr>\n",
       "  </thead>\n",
       "  <tbody>\n",
       "    <tr>\n",
       "      <th>0</th>\n",
       "      <td>da0419e3-3d53-4766-8d2a-c43fe1fcabb4</td>\n",
       "      <td>中恵光城</td>\n",
       "      <td>Nakae, Mitsuki</td>\n",
       "      <td>Person</td>\n",
       "      <td>NaN</td>\n",
       "      <td>Saitama</td>\n",
       "      <td>????-03-19</td>\n",
       "      <td>NaN</td>\n",
       "      <td>NaN</td>\n",
       "      <td>NaN</td>\n",
       "      <td>World, Lust, Reach, Wish, Apart, CUSTOMORDERMA...</td>\n",
       "      <td>2025-04-10T06:13:31.382793</td>\n",
       "    </tr>\n",
       "    <tr>\n",
       "      <th>1</th>\n",
       "      <td>661e188d-d855-4abf-a2eb-d5cc401fe0c4</td>\n",
       "      <td>Equip</td>\n",
       "      <td>Equip</td>\n",
       "      <td>Person</td>\n",
       "      <td>NaN</td>\n",
       "      <td>NaN</td>\n",
       "      <td>NaN</td>\n",
       "      <td>NaN</td>\n",
       "      <td>ambient, chiptune, electronic, new jack swing,...</td>\n",
       "      <td>ambient, chiptune, dark knight, electronic, kn...</td>\n",
       "      <td>I Dreamed of a Palace in the Sky, Synthetic Co...</td>\n",
       "      <td>2025-04-10T06:13:33.448910</td>\n",
       "    </tr>\n",
       "    <tr>\n",
       "      <th>2</th>\n",
       "      <td>ad0a5e1e-4926-4d4d-9b0f-77fbbd19439f</td>\n",
       "      <td>Steve Moore</td>\n",
       "      <td>Moore, Steve</td>\n",
       "      <td>Person</td>\n",
       "      <td>NaN</td>\n",
       "      <td>Pittsburgh</td>\n",
       "      <td>NaN</td>\n",
       "      <td>NaN</td>\n",
       "      <td>electronic, synthwave</td>\n",
       "      <td>electronic, synthwave</td>\n",
       "      <td>Zero-Point Field, Panther Moderns, Horror Busi...</td>\n",
       "      <td>2025-04-10T06:13:35.506581</td>\n",
       "    </tr>\n",
       "    <tr>\n",
       "      <th>3</th>\n",
       "      <td>cf66c8e2-8bfd-47f3-b0ae-4d1a2428be29</td>\n",
       "      <td>Fortuna Music</td>\n",
       "      <td>Fortuna Music</td>\n",
       "      <td>Group</td>\n",
       "      <td>MX</td>\n",
       "      <td>Mexico</td>\n",
       "      <td>2023-03-10</td>\n",
       "      <td>NaN</td>\n",
       "      <td>NaN</td>\n",
       "      <td>NaN</td>\n",
       "      <td>Agua de Vida</td>\n",
       "      <td>2025-04-10T06:13:37.502293</td>\n",
       "    </tr>\n",
       "    <tr>\n",
       "      <th>4</th>\n",
       "      <td>df20a18f-c1e1-47e2-b26e-f0f792c9cba7</td>\n",
       "      <td>sci</td>\n",
       "      <td>sci</td>\n",
       "      <td>Person</td>\n",
       "      <td>US</td>\n",
       "      <td>NaN</td>\n",
       "      <td>NaN</td>\n",
       "      <td>NaN</td>\n",
       "      <td>NaN</td>\n",
       "      <td>brony</td>\n",
       "      <td>Sketches from Math Class, :40HoC, Atmospheric ...</td>\n",
       "      <td>2025-04-10T06:13:39.681896</td>\n",
       "    </tr>\n",
       "  </tbody>\n",
       "</table>\n",
       "</div>"
      ],
      "text/plain": [
       "                              artist_id           name       sort_name  \\\n",
       "0  da0419e3-3d53-4766-8d2a-c43fe1fcabb4           中恵光城  Nakae, Mitsuki   \n",
       "1  661e188d-d855-4abf-a2eb-d5cc401fe0c4          Equip           Equip   \n",
       "2  ad0a5e1e-4926-4d4d-9b0f-77fbbd19439f    Steve Moore    Moore, Steve   \n",
       "3  cf66c8e2-8bfd-47f3-b0ae-4d1a2428be29  Fortuna Music   Fortuna Music   \n",
       "4  df20a18f-c1e1-47e2-b26e-f0f792c9cba7            sci             sci   \n",
       "\n",
       "     type country  begin_area  begin_date end_date  \\\n",
       "0  Person     NaN     Saitama  ????-03-19      NaN   \n",
       "1  Person     NaN         NaN         NaN      NaN   \n",
       "2  Person     NaN  Pittsburgh         NaN      NaN   \n",
       "3   Group      MX      Mexico  2023-03-10      NaN   \n",
       "4  Person      US         NaN         NaN      NaN   \n",
       "\n",
       "                                              genres  \\\n",
       "0                                                NaN   \n",
       "1  ambient, chiptune, electronic, new jack swing,...   \n",
       "2                              electronic, synthwave   \n",
       "3                                                NaN   \n",
       "4                                                NaN   \n",
       "\n",
       "                                                tags  \\\n",
       "0                                                NaN   \n",
       "1  ambient, chiptune, dark knight, electronic, kn...   \n",
       "2                              electronic, synthwave   \n",
       "3                                                NaN   \n",
       "4                                              brony   \n",
       "\n",
       "                                      release_groups  \\\n",
       "0  World, Lust, Reach, Wish, Apart, CUSTOMORDERMA...   \n",
       "1  I Dreamed of a Palace in the Sky, Synthetic Co...   \n",
       "2  Zero-Point Field, Panther Moderns, Horror Busi...   \n",
       "3                                       Agua de Vida   \n",
       "4  Sketches from Math Class, :40HoC, Atmospheric ...   \n",
       "\n",
       "                    timestamp  \n",
       "0  2025-04-10T06:13:31.382793  \n",
       "1  2025-04-10T06:13:33.448910  \n",
       "2  2025-04-10T06:13:35.506581  \n",
       "3  2025-04-10T06:13:37.502293  \n",
       "4  2025-04-10T06:13:39.681896  "
      ]
     },
     "execution_count": 107,
     "metadata": {},
     "output_type": "execute_result"
    }
   ],
   "source": [
    "df = pd.read_csv('../data/1_interm/musicbrainz_artists_random.csv')\n",
    "df.head()"
   ]
  },
  {
   "cell_type": "code",
   "execution_count": 108,
   "id": "3486e294",
   "metadata": {},
   "outputs": [
    {
     "data": {
      "text/plain": [
       "(100, 12)"
      ]
     },
     "execution_count": 108,
     "metadata": {},
     "output_type": "execute_result"
    }
   ],
   "source": [
    "df.shape"
   ]
  },
  {
   "cell_type": "code",
   "execution_count": 109,
   "id": "79eebb07",
   "metadata": {},
   "outputs": [
    {
     "name": "stdout",
     "output_type": "stream",
     "text": [
      "<class 'pandas.core.frame.DataFrame'>\n",
      "RangeIndex: 100 entries, 0 to 99\n",
      "Data columns (total 12 columns):\n",
      " #   Column          Non-Null Count  Dtype \n",
      "---  ------          --------------  ----- \n",
      " 0   artist_id       100 non-null    object\n",
      " 1   name            100 non-null    object\n",
      " 2   sort_name       100 non-null    object\n",
      " 3   type            94 non-null     object\n",
      " 4   country         66 non-null     object\n",
      " 5   begin_area      50 non-null     object\n",
      " 6   begin_date      52 non-null     object\n",
      " 7   end_date        9 non-null      object\n",
      " 8   genres          51 non-null     object\n",
      " 9   tags            58 non-null     object\n",
      " 10  release_groups  99 non-null     object\n",
      " 11  timestamp       100 non-null    object\n",
      "dtypes: object(12)\n",
      "memory usage: 9.5+ KB\n"
     ]
    }
   ],
   "source": [
    "df.info()"
   ]
  },
  {
   "cell_type": "code",
   "execution_count": 110,
   "id": "e3447554",
   "metadata": {},
   "outputs": [
    {
     "data": {
      "text/plain": [
       "artist_id          0\n",
       "name               0\n",
       "sort_name          0\n",
       "type               6\n",
       "country           34\n",
       "begin_area        50\n",
       "begin_date        48\n",
       "end_date          91\n",
       "genres            49\n",
       "tags              42\n",
       "release_groups     1\n",
       "timestamp          0\n",
       "dtype: int64"
      ]
     },
     "execution_count": 110,
     "metadata": {},
     "output_type": "execute_result"
    }
   ],
   "source": [
    "df.isnull().sum()"
   ]
  },
  {
   "cell_type": "code",
   "execution_count": 111,
   "id": "675c2510",
   "metadata": {},
   "outputs": [],
   "source": [
    "df = df.dropna()"
   ]
  },
  {
   "cell_type": "code",
   "execution_count": 112,
   "id": "b27adc3b",
   "metadata": {},
   "outputs": [
    {
     "data": {
      "text/plain": [
       "artist_id         0\n",
       "name              0\n",
       "sort_name         0\n",
       "type              0\n",
       "country           0\n",
       "begin_area        0\n",
       "begin_date        0\n",
       "end_date          0\n",
       "genres            0\n",
       "tags              0\n",
       "release_groups    0\n",
       "timestamp         0\n",
       "dtype: int64"
      ]
     },
     "execution_count": 112,
     "metadata": {},
     "output_type": "execute_result"
    }
   ],
   "source": [
    "df.isnull().sum()"
   ]
  },
  {
   "cell_type": "code",
   "execution_count": 113,
   "id": "01e631e5",
   "metadata": {},
   "outputs": [
    {
     "data": {
      "text/html": [
       "<div>\n",
       "<style scoped>\n",
       "    .dataframe tbody tr th:only-of-type {\n",
       "        vertical-align: middle;\n",
       "    }\n",
       "\n",
       "    .dataframe tbody tr th {\n",
       "        vertical-align: top;\n",
       "    }\n",
       "\n",
       "    .dataframe thead th {\n",
       "        text-align: right;\n",
       "    }\n",
       "</style>\n",
       "<table border=\"1\" class=\"dataframe\">\n",
       "  <thead>\n",
       "    <tr style=\"text-align: right;\">\n",
       "      <th></th>\n",
       "      <th>artist_id</th>\n",
       "      <th>name</th>\n",
       "      <th>sort_name</th>\n",
       "      <th>type</th>\n",
       "      <th>country</th>\n",
       "      <th>begin_area</th>\n",
       "      <th>begin_date</th>\n",
       "      <th>end_date</th>\n",
       "      <th>genres</th>\n",
       "      <th>tags</th>\n",
       "      <th>release_groups</th>\n",
       "      <th>timestamp</th>\n",
       "    </tr>\n",
       "  </thead>\n",
       "  <tbody>\n",
       "  </tbody>\n",
       "</table>\n",
       "</div>"
      ],
      "text/plain": [
       "Empty DataFrame\n",
       "Columns: [artist_id, name, sort_name, type, country, begin_area, begin_date, end_date, genres, tags, release_groups, timestamp]\n",
       "Index: []"
      ]
     },
     "execution_count": 113,
     "metadata": {},
     "output_type": "execute_result"
    }
   ],
   "source": [
    "df[df.duplicated(keep=False)]"
   ]
  },
  {
   "cell_type": "code",
   "execution_count": 114,
   "id": "8b98ffc3",
   "metadata": {},
   "outputs": [
    {
     "data": {
      "text/html": [
       "<div>\n",
       "<style scoped>\n",
       "    .dataframe tbody tr th:only-of-type {\n",
       "        vertical-align: middle;\n",
       "    }\n",
       "\n",
       "    .dataframe tbody tr th {\n",
       "        vertical-align: top;\n",
       "    }\n",
       "\n",
       "    .dataframe thead th {\n",
       "        text-align: right;\n",
       "    }\n",
       "</style>\n",
       "<table border=\"1\" class=\"dataframe\">\n",
       "  <thead>\n",
       "    <tr style=\"text-align: right;\">\n",
       "      <th></th>\n",
       "      <th>artist_id</th>\n",
       "      <th>name</th>\n",
       "      <th>sort_name</th>\n",
       "      <th>type</th>\n",
       "      <th>country</th>\n",
       "      <th>begin_area</th>\n",
       "      <th>begin_date</th>\n",
       "      <th>end_date</th>\n",
       "      <th>genres</th>\n",
       "      <th>tags</th>\n",
       "      <th>release_groups</th>\n",
       "      <th>timestamp</th>\n",
       "    </tr>\n",
       "  </thead>\n",
       "  <tbody>\n",
       "    <tr>\n",
       "      <th>count</th>\n",
       "      <td>3</td>\n",
       "      <td>3</td>\n",
       "      <td>3</td>\n",
       "      <td>3</td>\n",
       "      <td>3</td>\n",
       "      <td>3</td>\n",
       "      <td>3</td>\n",
       "      <td>3</td>\n",
       "      <td>3</td>\n",
       "      <td>3</td>\n",
       "      <td>3</td>\n",
       "      <td>3</td>\n",
       "    </tr>\n",
       "    <tr>\n",
       "      <th>unique</th>\n",
       "      <td>3</td>\n",
       "      <td>3</td>\n",
       "      <td>3</td>\n",
       "      <td>1</td>\n",
       "      <td>3</td>\n",
       "      <td>3</td>\n",
       "      <td>3</td>\n",
       "      <td>3</td>\n",
       "      <td>3</td>\n",
       "      <td>3</td>\n",
       "      <td>3</td>\n",
       "      <td>3</td>\n",
       "    </tr>\n",
       "    <tr>\n",
       "      <th>top</th>\n",
       "      <td>fba243b2-728f-46f1-9212-dd188c1561ef</td>\n",
       "      <td>Violetta Villas</td>\n",
       "      <td>Villas, Violetta</td>\n",
       "      <td>Person</td>\n",
       "      <td>PL</td>\n",
       "      <td>Heusy</td>\n",
       "      <td>1938-06-10</td>\n",
       "      <td>2011-12-05</td>\n",
       "      <td>jazz</td>\n",
       "      <td>jazz</td>\n",
       "      <td>Rendez-vous z Violettą Villas, Violetta Villas...</td>\n",
       "      <td>2025-04-10T06:13:44.523839</td>\n",
       "    </tr>\n",
       "    <tr>\n",
       "      <th>freq</th>\n",
       "      <td>1</td>\n",
       "      <td>1</td>\n",
       "      <td>1</td>\n",
       "      <td>3</td>\n",
       "      <td>1</td>\n",
       "      <td>1</td>\n",
       "      <td>1</td>\n",
       "      <td>1</td>\n",
       "      <td>1</td>\n",
       "      <td>1</td>\n",
       "      <td>1</td>\n",
       "      <td>1</td>\n",
       "    </tr>\n",
       "  </tbody>\n",
       "</table>\n",
       "</div>"
      ],
      "text/plain": [
       "                                   artist_id             name  \\\n",
       "count                                      3                3   \n",
       "unique                                     3                3   \n",
       "top     fba243b2-728f-46f1-9212-dd188c1561ef  Violetta Villas   \n",
       "freq                                       1                1   \n",
       "\n",
       "               sort_name    type country begin_area  begin_date    end_date  \\\n",
       "count                  3       3       3          3           3           3   \n",
       "unique                 3       1       3          3           3           3   \n",
       "top     Villas, Violetta  Person      PL      Heusy  1938-06-10  2011-12-05   \n",
       "freq                   1       3       1          1           1           1   \n",
       "\n",
       "       genres  tags                                     release_groups  \\\n",
       "count       3     3                                                  3   \n",
       "unique      3     3                                                  3   \n",
       "top      jazz  jazz  Rendez-vous z Violettą Villas, Violetta Villas...   \n",
       "freq        1     1                                                  1   \n",
       "\n",
       "                         timestamp  \n",
       "count                            3  \n",
       "unique                           3  \n",
       "top     2025-04-10T06:13:44.523839  \n",
       "freq                             1  "
      ]
     },
     "execution_count": 114,
     "metadata": {},
     "output_type": "execute_result"
    }
   ],
   "source": [
    "df.describe(include=\"object\")"
   ]
  },
  {
   "cell_type": "code",
   "execution_count": 115,
   "id": "bb4b31ff",
   "metadata": {},
   "outputs": [
    {
     "data": {
      "text/plain": [
       "array(['jazz', 'jazz, krautrock, progressive rock',\n",
       "       'electro-disco, euro-disco, italo-disco'], dtype=object)"
      ]
     },
     "execution_count": 115,
     "metadata": {},
     "output_type": "execute_result"
    }
   ],
   "source": [
    "values = df[\"genres\"].unique()\n",
    "values"
   ]
  },
  {
   "cell_type": "code",
   "execution_count": 116,
   "id": "2fdf3965",
   "metadata": {},
   "outputs": [
    {
     "data": {
      "text/plain": [
       "array(['Heusy', 'Brussels', 'Pompei'], dtype=object)"
      ]
     },
     "execution_count": 116,
     "metadata": {},
     "output_type": "execute_result"
    }
   ],
   "source": [
    "values_begin_area = df[\"begin_area\"].unique()\n",
    "values_begin_area"
   ]
  },
  {
   "cell_type": "code",
   "execution_count": 117,
   "id": "d19a84d5",
   "metadata": {},
   "outputs": [
    {
     "data": {
      "text/plain": [
       "array(['jazz', 'jazz, krautrock, progressive rock',\n",
       "       'electro-disco, euro-disco, italo-disco'], dtype=object)"
      ]
     },
     "execution_count": 117,
     "metadata": {},
     "output_type": "execute_result"
    }
   ],
   "source": [
    "values_tags = df[\"tags\"].unique()\n",
    "values_tags"
   ]
  },
  {
   "cell_type": "code",
   "execution_count": 118,
   "id": "610ef8d0",
   "metadata": {},
   "outputs": [
    {
     "data": {
      "text/plain": [
       "array(['Person'], dtype=object)"
      ]
     },
     "execution_count": 118,
     "metadata": {},
     "output_type": "execute_result"
    }
   ],
   "source": [
    "values_tags = df[\"type\"].unique()\n",
    "values_tags"
   ]
  },
  {
   "cell_type": "code",
   "execution_count": 119,
   "id": "c324b397",
   "metadata": {},
   "outputs": [
    {
     "data": {
      "text/plain": [
       "array(['Rendez-vous z Violettą Villas, Violetta Villas, Dla ciebie miły, O miłości..., Nie ma miłości bez zazdrości, Najpiękniejsze kolędy, Gdy się Chrystus rodzi..., Kolędy serca, Na pocieszenie serca i uniesienie ducha, Dawne przeboje, Największe przeboje, Dla ciebie miły, Jestem taka a nie inna, Platynowa kolekcja: Złote przeboje, Złota kolekcja: Pocałunek ognia, Złote przeboje, Złote przeboje, cz. 1, Złote przeboje, cz. 2, Polskie perły: Do ciebie mamo, Z archiwum Polskiego Radia, vol. 11, 40 piosenek Violetty Villas, Laleczka, Czarny szal / Marianna ruda, Sekret / Zaśnij, Żabka i miś / Dla ciebie miły',\n",
       "       \"L'Immagine Del Suono, Images of Flute in Nature, Biomechanoïd, Birth Of Earth, Contemporary Pastoral and Ethnic Sounds, Lost Continents, Meditations, Volume 1, Meditations, Volume 2, Computer Blossoms, Industrial Retrospect, Open Air Impressions, Joel However, Mesopotamia Egypt, Middle Ages, South East Asia, Digital Project, Video Games & Data Movements, AVision, California - Industrial & Scenic Moods, AV Motion, Prospective Metropolis / Digital Project, Datapulse, Sunrise, Silicon Sirene, Far View\",\n",
       "       \"...Balla!, Ti regalo della musica, Una notte maledetta, Sunshine Blue, Gente sì & Gente no, Dancing in Jazz, Notte d'amore, Ma quale idea, Italian Classics, Vol. I, Italian Classics, Vol. II, Ma quale idea / Lezione d’amore, MA CHE IDEA, MA CHE IDEA, Ma quale idea (Myd remix)\"],\n",
       "      dtype=object)"
      ]
     },
     "execution_count": 119,
     "metadata": {},
     "output_type": "execute_result"
    }
   ],
   "source": [
    "values_release_groups = df[\"release_groups\"].unique()\n",
    "values_release_groups"
   ]
  },
  {
   "cell_type": "code",
   "execution_count": 120,
   "id": "a7c486c3",
   "metadata": {},
   "outputs": [
    {
     "data": {
      "text/plain": [
       "array(['1938-06-10', '1938-08-25', '1952-08-14'], dtype=object)"
      ]
     },
     "execution_count": 120,
     "metadata": {},
     "output_type": "execute_result"
    }
   ],
   "source": [
    "values_begin_date = df[\"begin_date\"].unique()\n",
    "values_begin_date"
   ]
  },
  {
   "cell_type": "code",
   "execution_count": 121,
   "id": "bf93ac4e",
   "metadata": {},
   "outputs": [
    {
     "data": {
      "text/plain": [
       "array(['2011-12-05', '2019-12-23', '2024-07-06'], dtype=object)"
      ]
     },
     "execution_count": 121,
     "metadata": {},
     "output_type": "execute_result"
    }
   ],
   "source": [
    "values_end_date  = df[\"end_date\"].unique()\n",
    "values_end_date "
   ]
  },
  {
   "cell_type": "code",
   "execution_count": 122,
   "id": "aa3d60e3",
   "metadata": {},
   "outputs": [
    {
     "data": {
      "text/plain": [
       "array(['2025-04-10T06:13:44.523839', '2025-04-10T06:15:05.160518',\n",
       "       '2025-04-10T06:16:19.023058'], dtype=object)"
      ]
     },
     "execution_count": 122,
     "metadata": {},
     "output_type": "execute_result"
    }
   ],
   "source": [
    "values_timestamp = df[\"timestamp\"].unique()\n",
    "values_timestamp"
   ]
  },
  {
   "cell_type": "code",
   "execution_count": 123,
   "id": "ffc867fb",
   "metadata": {},
   "outputs": [],
   "source": [
    "df['timestamp'] = pd.to_datetime(df['timestamp'])\n",
    "df['begin_date'] = pd.to_datetime(df['begin_date'], format='%Y-%m-%d')  \n",
    "df['end_date'] = pd.to_datetime(df['end_date'], format='%Y-%m-%d')"
   ]
  },
  {
   "cell_type": "code",
   "execution_count": 124,
   "id": "9744ea94",
   "metadata": {},
   "outputs": [
    {
     "data": {
      "text/plain": [
       "artist_id                 object\n",
       "name                      object\n",
       "sort_name                 object\n",
       "type                      object\n",
       "country                   object\n",
       "begin_area                object\n",
       "begin_date        datetime64[ns]\n",
       "end_date          datetime64[ns]\n",
       "genres                    object\n",
       "tags                      object\n",
       "release_groups            object\n",
       "timestamp         datetime64[ns]\n",
       "dtype: object"
      ]
     },
     "execution_count": 124,
     "metadata": {},
     "output_type": "execute_result"
    }
   ],
   "source": [
    "df.dtypes"
   ]
  }
 ],
 "metadata": {
  "kernelspec": {
   "display_name": "venv",
   "language": "python",
   "name": "python3"
  },
  "language_info": {
   "codemirror_mode": {
    "name": "ipython",
    "version": 3
   },
   "file_extension": ".py",
   "mimetype": "text/x-python",
   "name": "python",
   "nbconvert_exporter": "python",
   "pygments_lexer": "ipython3",
   "version": "3.12.3"
  }
 },
 "nbformat": 4,
 "nbformat_minor": 5
}
