{
 "cells": [
  {
   "cell_type": "code",
   "execution_count": 25,
   "id": "db89e857",
   "metadata": {},
   "outputs": [],
   "source": [
    "import pandas as pd\n",
    "import seaborn as sns\n",
    "import matplotlib.pyplot as plt\n",
    "import numpy as np"
   ]
  },
  {
   "cell_type": "code",
   "execution_count": 26,
   "id": "f67a7033",
   "metadata": {},
   "outputs": [
    {
     "data": {
      "text/html": [
       "<div>\n",
       "<style scoped>\n",
       "    .dataframe tbody tr th:only-of-type {\n",
       "        vertical-align: middle;\n",
       "    }\n",
       "\n",
       "    .dataframe tbody tr th {\n",
       "        vertical-align: top;\n",
       "    }\n",
       "\n",
       "    .dataframe thead th {\n",
       "        text-align: right;\n",
       "    }\n",
       "</style>\n",
       "<table border=\"1\" class=\"dataframe\">\n",
       "  <thead>\n",
       "    <tr style=\"text-align: right;\">\n",
       "      <th></th>\n",
       "      <th>artist_id</th>\n",
       "      <th>name</th>\n",
       "      <th>sort_name</th>\n",
       "      <th>type</th>\n",
       "      <th>country</th>\n",
       "      <th>begin_area</th>\n",
       "      <th>begin_date</th>\n",
       "      <th>end_date</th>\n",
       "      <th>genres</th>\n",
       "      <th>tags</th>\n",
       "      <th>release_groups</th>\n",
       "      <th>timestamp</th>\n",
       "    </tr>\n",
       "  </thead>\n",
       "  <tbody>\n",
       "    <tr>\n",
       "      <th>0</th>\n",
       "      <td>31c86a97-8064-4585-9f38-bb4168537361</td>\n",
       "      <td>Moon</td>\n",
       "      <td>Moon</td>\n",
       "      <td>NaN</td>\n",
       "      <td>NaN</td>\n",
       "      <td>NaN</td>\n",
       "      <td>NaN</td>\n",
       "      <td>NaN</td>\n",
       "      <td>NaN</td>\n",
       "      <td>NaN</td>\n",
       "      <td>Risa and the Snake, Regolith, Death Construction</td>\n",
       "      <td>2025-04-10T12:17:07.108799</td>\n",
       "    </tr>\n",
       "    <tr>\n",
       "      <th>1</th>\n",
       "      <td>80db0f72-c894-417e-b613-91e864da68e6</td>\n",
       "      <td>Brian Burger</td>\n",
       "      <td>Brian Burger</td>\n",
       "      <td>NaN</td>\n",
       "      <td>NaN</td>\n",
       "      <td>NaN</td>\n",
       "      <td>NaN</td>\n",
       "      <td>NaN</td>\n",
       "      <td>NaN</td>\n",
       "      <td>NaN</td>\n",
       "      <td>Warhammer EP, Assault</td>\n",
       "      <td>2025-04-10T12:17:08.983859</td>\n",
       "    </tr>\n",
       "    <tr>\n",
       "      <th>2</th>\n",
       "      <td>00668541-a00a-4376-bac5-8e9d7a42d41e</td>\n",
       "      <td>Pace</td>\n",
       "      <td>Pace</td>\n",
       "      <td>Person</td>\n",
       "      <td>NaN</td>\n",
       "      <td>Phoenix</td>\n",
       "      <td>NaN</td>\n",
       "      <td>NaN</td>\n",
       "      <td>NaN</td>\n",
       "      <td>NaN</td>\n",
       "      <td>Animal House</td>\n",
       "      <td>2025-04-10T12:17:10.744596</td>\n",
       "    </tr>\n",
       "    <tr>\n",
       "      <th>3</th>\n",
       "      <td>3c7de0f1-ae0e-4ae5-8554-d26641e9c3a5</td>\n",
       "      <td>MASAKOTO150</td>\n",
       "      <td>MASAKOTO150</td>\n",
       "      <td>Person</td>\n",
       "      <td>NaN</td>\n",
       "      <td>NaN</td>\n",
       "      <td>NaN</td>\n",
       "      <td>NaN</td>\n",
       "      <td>NaN</td>\n",
       "      <td>NaN</td>\n",
       "      <td>錯覚 MASTER</td>\n",
       "      <td>2025-04-10T12:17:12.456312</td>\n",
       "    </tr>\n",
       "    <tr>\n",
       "      <th>4</th>\n",
       "      <td>6a7a758c-fe13-4c58-b1c9-34bb36fbeada</td>\n",
       "      <td>Gérard Thifault</td>\n",
       "      <td>Thifault, Gérard</td>\n",
       "      <td>Person</td>\n",
       "      <td>NaN</td>\n",
       "      <td>Port-au-Prince</td>\n",
       "      <td>NaN</td>\n",
       "      <td>NaN</td>\n",
       "      <td>NaN</td>\n",
       "      <td>NaN</td>\n",
       "      <td>Ay-Bo-Le</td>\n",
       "      <td>2025-04-10T12:17:14.214018</td>\n",
       "    </tr>\n",
       "  </tbody>\n",
       "</table>\n",
       "</div>"
      ],
      "text/plain": [
       "                              artist_id             name         sort_name  \\\n",
       "0  31c86a97-8064-4585-9f38-bb4168537361             Moon              Moon   \n",
       "1  80db0f72-c894-417e-b613-91e864da68e6     Brian Burger      Brian Burger   \n",
       "2  00668541-a00a-4376-bac5-8e9d7a42d41e             Pace              Pace   \n",
       "3  3c7de0f1-ae0e-4ae5-8554-d26641e9c3a5      MASAKOTO150       MASAKOTO150   \n",
       "4  6a7a758c-fe13-4c58-b1c9-34bb36fbeada  Gérard Thifault  Thifault, Gérard   \n",
       "\n",
       "     type country      begin_area begin_date  end_date genres tags  \\\n",
       "0     NaN     NaN             NaN        NaN       NaN    NaN  NaN   \n",
       "1     NaN     NaN             NaN        NaN       NaN    NaN  NaN   \n",
       "2  Person     NaN         Phoenix        NaN       NaN    NaN  NaN   \n",
       "3  Person     NaN             NaN        NaN       NaN    NaN  NaN   \n",
       "4  Person     NaN  Port-au-Prince        NaN       NaN    NaN  NaN   \n",
       "\n",
       "                                     release_groups  \\\n",
       "0  Risa and the Snake, Regolith, Death Construction   \n",
       "1                             Warhammer EP, Assault   \n",
       "2                                      Animal House   \n",
       "3                                         錯覚 MASTER   \n",
       "4                                          Ay-Bo-Le   \n",
       "\n",
       "                    timestamp  \n",
       "0  2025-04-10T12:17:07.108799  \n",
       "1  2025-04-10T12:17:08.983859  \n",
       "2  2025-04-10T12:17:10.744596  \n",
       "3  2025-04-10T12:17:12.456312  \n",
       "4  2025-04-10T12:17:14.214018  "
      ]
     },
     "execution_count": 26,
     "metadata": {},
     "output_type": "execute_result"
    }
   ],
   "source": [
    "df = pd.read_csv('../data/1_interm/musicbrainz_artists_random.csv')\n",
    "df.head()"
   ]
  },
  {
   "cell_type": "code",
   "execution_count": 27,
   "id": "3486e294",
   "metadata": {},
   "outputs": [
    {
     "data": {
      "text/plain": [
       "(25, 12)"
      ]
     },
     "execution_count": 27,
     "metadata": {},
     "output_type": "execute_result"
    }
   ],
   "source": [
    "df.shape"
   ]
  },
  {
   "cell_type": "code",
   "execution_count": 28,
   "id": "79eebb07",
   "metadata": {},
   "outputs": [
    {
     "name": "stdout",
     "output_type": "stream",
     "text": [
      "<class 'pandas.core.frame.DataFrame'>\n",
      "RangeIndex: 25 entries, 0 to 24\n",
      "Data columns (total 12 columns):\n",
      " #   Column          Non-Null Count  Dtype  \n",
      "---  ------          --------------  -----  \n",
      " 0   artist_id       25 non-null     object \n",
      " 1   name            25 non-null     object \n",
      " 2   sort_name       25 non-null     object \n",
      " 3   type            20 non-null     object \n",
      " 4   country         3 non-null      object \n",
      " 5   begin_area      5 non-null      object \n",
      " 6   begin_date      3 non-null      object \n",
      " 7   end_date        0 non-null      float64\n",
      " 8   genres          4 non-null      object \n",
      " 9   tags            5 non-null      object \n",
      " 10  release_groups  24 non-null     object \n",
      " 11  timestamp       25 non-null     object \n",
      "dtypes: float64(1), object(11)\n",
      "memory usage: 2.5+ KB\n"
     ]
    }
   ],
   "source": [
    "df.info()"
   ]
  },
  {
   "cell_type": "code",
   "execution_count": 29,
   "id": "e3447554",
   "metadata": {},
   "outputs": [
    {
     "data": {
      "text/plain": [
       "artist_id          0\n",
       "name               0\n",
       "sort_name          0\n",
       "type               5\n",
       "country           22\n",
       "begin_area        20\n",
       "begin_date        22\n",
       "end_date          25\n",
       "genres            21\n",
       "tags              20\n",
       "release_groups     1\n",
       "timestamp          0\n",
       "dtype: int64"
      ]
     },
     "execution_count": 29,
     "metadata": {},
     "output_type": "execute_result"
    }
   ],
   "source": [
    "df.isnull().sum()"
   ]
  },
  {
   "cell_type": "code",
   "execution_count": 30,
   "id": "36e3005a",
   "metadata": {},
   "outputs": [
    {
     "data": {
      "text/plain": [
       "(25, 12)"
      ]
     },
     "execution_count": 30,
     "metadata": {},
     "output_type": "execute_result"
    }
   ],
   "source": [
    "df.shape"
   ]
  },
  {
   "cell_type": "code",
   "execution_count": 31,
   "id": "b27adc3b",
   "metadata": {},
   "outputs": [
    {
     "data": {
      "text/plain": [
       "artist_id          0\n",
       "name               0\n",
       "sort_name          0\n",
       "type               5\n",
       "country           22\n",
       "begin_area        20\n",
       "begin_date        22\n",
       "end_date          25\n",
       "genres            21\n",
       "tags              20\n",
       "release_groups     1\n",
       "timestamp          0\n",
       "dtype: int64"
      ]
     },
     "execution_count": 31,
     "metadata": {},
     "output_type": "execute_result"
    }
   ],
   "source": [
    "df.isnull().sum()"
   ]
  },
  {
   "cell_type": "code",
   "execution_count": 32,
   "id": "bff9382d",
   "metadata": {},
   "outputs": [
    {
     "data": {
      "text/plain": [
       "(25, 12)"
      ]
     },
     "execution_count": 32,
     "metadata": {},
     "output_type": "execute_result"
    }
   ],
   "source": [
    "df.shape"
   ]
  },
  {
   "cell_type": "code",
   "execution_count": 33,
   "id": "01e631e5",
   "metadata": {},
   "outputs": [
    {
     "data": {
      "text/html": [
       "<div>\n",
       "<style scoped>\n",
       "    .dataframe tbody tr th:only-of-type {\n",
       "        vertical-align: middle;\n",
       "    }\n",
       "\n",
       "    .dataframe tbody tr th {\n",
       "        vertical-align: top;\n",
       "    }\n",
       "\n",
       "    .dataframe thead th {\n",
       "        text-align: right;\n",
       "    }\n",
       "</style>\n",
       "<table border=\"1\" class=\"dataframe\">\n",
       "  <thead>\n",
       "    <tr style=\"text-align: right;\">\n",
       "      <th></th>\n",
       "      <th>artist_id</th>\n",
       "      <th>name</th>\n",
       "      <th>sort_name</th>\n",
       "      <th>type</th>\n",
       "      <th>country</th>\n",
       "      <th>begin_area</th>\n",
       "      <th>begin_date</th>\n",
       "      <th>end_date</th>\n",
       "      <th>genres</th>\n",
       "      <th>tags</th>\n",
       "      <th>release_groups</th>\n",
       "      <th>timestamp</th>\n",
       "    </tr>\n",
       "  </thead>\n",
       "  <tbody>\n",
       "  </tbody>\n",
       "</table>\n",
       "</div>"
      ],
      "text/plain": [
       "Empty DataFrame\n",
       "Columns: [artist_id, name, sort_name, type, country, begin_area, begin_date, end_date, genres, tags, release_groups, timestamp]\n",
       "Index: []"
      ]
     },
     "execution_count": 33,
     "metadata": {},
     "output_type": "execute_result"
    }
   ],
   "source": [
    "df[df.duplicated(keep=False)]"
   ]
  },
  {
   "cell_type": "code",
   "execution_count": 34,
   "id": "8b98ffc3",
   "metadata": {},
   "outputs": [
    {
     "data": {
      "text/html": [
       "<div>\n",
       "<style scoped>\n",
       "    .dataframe tbody tr th:only-of-type {\n",
       "        vertical-align: middle;\n",
       "    }\n",
       "\n",
       "    .dataframe tbody tr th {\n",
       "        vertical-align: top;\n",
       "    }\n",
       "\n",
       "    .dataframe thead th {\n",
       "        text-align: right;\n",
       "    }\n",
       "</style>\n",
       "<table border=\"1\" class=\"dataframe\">\n",
       "  <thead>\n",
       "    <tr style=\"text-align: right;\">\n",
       "      <th></th>\n",
       "      <th>artist_id</th>\n",
       "      <th>name</th>\n",
       "      <th>sort_name</th>\n",
       "      <th>type</th>\n",
       "      <th>country</th>\n",
       "      <th>begin_area</th>\n",
       "      <th>begin_date</th>\n",
       "      <th>genres</th>\n",
       "      <th>tags</th>\n",
       "      <th>release_groups</th>\n",
       "      <th>timestamp</th>\n",
       "    </tr>\n",
       "  </thead>\n",
       "  <tbody>\n",
       "    <tr>\n",
       "      <th>count</th>\n",
       "      <td>25</td>\n",
       "      <td>25</td>\n",
       "      <td>25</td>\n",
       "      <td>20</td>\n",
       "      <td>3</td>\n",
       "      <td>5</td>\n",
       "      <td>3</td>\n",
       "      <td>4</td>\n",
       "      <td>5</td>\n",
       "      <td>24</td>\n",
       "      <td>25</td>\n",
       "    </tr>\n",
       "    <tr>\n",
       "      <th>unique</th>\n",
       "      <td>25</td>\n",
       "      <td>25</td>\n",
       "      <td>25</td>\n",
       "      <td>2</td>\n",
       "      <td>2</td>\n",
       "      <td>5</td>\n",
       "      <td>3</td>\n",
       "      <td>4</td>\n",
       "      <td>5</td>\n",
       "      <td>24</td>\n",
       "      <td>25</td>\n",
       "    </tr>\n",
       "    <tr>\n",
       "      <th>top</th>\n",
       "      <td>31c86a97-8064-4585-9f38-bb4168537361</td>\n",
       "      <td>Moon</td>\n",
       "      <td>Moon</td>\n",
       "      <td>Person</td>\n",
       "      <td>GB</td>\n",
       "      <td>Phoenix</td>\n",
       "      <td>1991-01-07</td>\n",
       "      <td>ambient, drone, electronic, experimental, noise</td>\n",
       "      <td>artist, music, producer</td>\n",
       "      <td>Risa and the Snake, Regolith, Death Construction</td>\n",
       "      <td>2025-04-10T12:17:07.108799</td>\n",
       "    </tr>\n",
       "    <tr>\n",
       "      <th>freq</th>\n",
       "      <td>1</td>\n",
       "      <td>1</td>\n",
       "      <td>1</td>\n",
       "      <td>19</td>\n",
       "      <td>2</td>\n",
       "      <td>1</td>\n",
       "      <td>1</td>\n",
       "      <td>1</td>\n",
       "      <td>1</td>\n",
       "      <td>1</td>\n",
       "      <td>1</td>\n",
       "    </tr>\n",
       "  </tbody>\n",
       "</table>\n",
       "</div>"
      ],
      "text/plain": [
       "                                   artist_id  name sort_name    type country  \\\n",
       "count                                     25    25        25      20       3   \n",
       "unique                                    25    25        25       2       2   \n",
       "top     31c86a97-8064-4585-9f38-bb4168537361  Moon      Moon  Person      GB   \n",
       "freq                                       1     1         1      19       2   \n",
       "\n",
       "       begin_area  begin_date  \\\n",
       "count           5           3   \n",
       "unique          5           3   \n",
       "top       Phoenix  1991-01-07   \n",
       "freq            1           1   \n",
       "\n",
       "                                                 genres  \\\n",
       "count                                                 4   \n",
       "unique                                                4   \n",
       "top     ambient, drone, electronic, experimental, noise   \n",
       "freq                                                  1   \n",
       "\n",
       "                           tags  \\\n",
       "count                         5   \n",
       "unique                        5   \n",
       "top     artist, music, producer   \n",
       "freq                          1   \n",
       "\n",
       "                                          release_groups  \\\n",
       "count                                                 24   \n",
       "unique                                                24   \n",
       "top     Risa and the Snake, Regolith, Death Construction   \n",
       "freq                                                   1   \n",
       "\n",
       "                         timestamp  \n",
       "count                           25  \n",
       "unique                          25  \n",
       "top     2025-04-10T12:17:07.108799  \n",
       "freq                             1  "
      ]
     },
     "execution_count": 34,
     "metadata": {},
     "output_type": "execute_result"
    }
   ],
   "source": [
    "df.describe(include=\"object\")"
   ]
  },
  {
   "cell_type": "code",
   "execution_count": 35,
   "id": "bb4b31ff",
   "metadata": {},
   "outputs": [
    {
     "data": {
      "text/plain": [
       "array([nan, 'ambient, drone, electronic, experimental, noise',\n",
       "       'drum and bass',\n",
       "       'contemporary r&b, dance-pop, electropop, pop, singer-songwriter',\n",
       "       'contemporary r&b, hip hop, pop rap, r&b'], dtype=object)"
      ]
     },
     "execution_count": 35,
     "metadata": {},
     "output_type": "execute_result"
    }
   ],
   "source": [
    "values = df[\"genres\"].unique()\n",
    "values"
   ]
  },
  {
   "cell_type": "code",
   "execution_count": 36,
   "id": "2fdf3965",
   "metadata": {},
   "outputs": [
    {
     "data": {
      "text/plain": [
       "array([nan, 'Phoenix', 'Port-au-Prince', 'Lagos', 'Casablanca',\n",
       "       'Los Angeles'], dtype=object)"
      ]
     },
     "execution_count": 36,
     "metadata": {},
     "output_type": "execute_result"
    }
   ],
   "source": [
    "values_begin_area = df[\"begin_area\"].unique()\n",
    "values_begin_area"
   ]
  },
  {
   "cell_type": "code",
   "execution_count": 37,
   "id": "d19a84d5",
   "metadata": {},
   "outputs": [
    {
     "data": {
      "text/plain": [
       "array([nan, 'artist, music, producer',\n",
       "       'ambient, drone, electronic, experimental, noise', 'drum and bass',\n",
       "       'banks, contemporary r&b, dance pop, dance-pop, electropop, h.e.r., julia michaels, pop, singer-songwriter',\n",
       "       'contemporary r&b, hip hop, pop rap, r&b, rap'], dtype=object)"
      ]
     },
     "execution_count": 37,
     "metadata": {},
     "output_type": "execute_result"
    }
   ],
   "source": [
    "values_tags = df[\"tags\"].unique()\n",
    "values_tags"
   ]
  },
  {
   "cell_type": "code",
   "execution_count": 38,
   "id": "610ef8d0",
   "metadata": {},
   "outputs": [
    {
     "data": {
      "text/plain": [
       "array([nan, 'Person', 'Group'], dtype=object)"
      ]
     },
     "execution_count": 38,
     "metadata": {},
     "output_type": "execute_result"
    }
   ],
   "source": [
    "values_tags = df[\"type\"].unique()\n",
    "values_tags"
   ]
  },
  {
   "cell_type": "code",
   "execution_count": 39,
   "id": "c324b397",
   "metadata": {},
   "outputs": [
    {
     "data": {
      "text/plain": [
       "array(['Risa and the Snake, Regolith, Death Construction',\n",
       "       'Warhammer EP, Assault', 'Animal House', '錯覚 MASTER', 'Ay-Bo-Le',\n",
       "       'Can You Imagine',\n",
       "       'Control, Get Loose, Fine Girl, Break The Rules',\n",
       "       'Oulad lghaba, L´bnat', 'You Believe In Satan?',\n",
       "       \"It's Okay to Die\", \"He's God All the Time\",\n",
       "       'Salute to James Taylor', 'Midi Canoe',\n",
       "       'Critical / Fall, Milestone, SMACKDOWN, Technoid EP',\n",
       "       'Numbers, Cold Coffee',\n",
       "       'Fragments, breathe, i need to vent, just a lil, april', 'Undone',\n",
       "       'Strain Studies', 'Scha!', 'Restart', nan,\n",
       "       'The Myth of Fitting In, Golden, Stuck in the Middle',\n",
       "       'Garage Tapes',\n",
       "       'Astral, I Wanna Rave, K‐Hole, On Acid, White Hearts, Don’t Let Me Go, Goes Like This, Pills (Deborah de Luca remix)',\n",
       "       'Vaihtuvat perspektiivit'], dtype=object)"
      ]
     },
     "execution_count": 39,
     "metadata": {},
     "output_type": "execute_result"
    }
   ],
   "source": [
    "values_release_groups = df[\"release_groups\"].unique()\n",
    "values_release_groups"
   ]
  },
  {
   "cell_type": "code",
   "execution_count": 40,
   "id": "a7c486c3",
   "metadata": {},
   "outputs": [
    {
     "data": {
      "text/plain": [
       "array([nan, '1991-01-07', '1998', '2013'], dtype=object)"
      ]
     },
     "execution_count": 40,
     "metadata": {},
     "output_type": "execute_result"
    }
   ],
   "source": [
    "values_begin_date = df[\"begin_date\"].unique()\n",
    "values_begin_date"
   ]
  },
  {
   "cell_type": "code",
   "execution_count": 41,
   "id": "bf93ac4e",
   "metadata": {},
   "outputs": [
    {
     "data": {
      "text/plain": [
       "array([nan])"
      ]
     },
     "execution_count": 41,
     "metadata": {},
     "output_type": "execute_result"
    }
   ],
   "source": [
    "values_end_date  = df[\"end_date\"].unique()\n",
    "values_end_date "
   ]
  },
  {
   "cell_type": "code",
   "execution_count": 42,
   "id": "aa3d60e3",
   "metadata": {},
   "outputs": [
    {
     "data": {
      "text/plain": [
       "array(['2025-04-10T12:17:07.108799', '2025-04-10T12:17:08.983859',\n",
       "       '2025-04-10T12:17:10.744596', '2025-04-10T12:17:12.456312',\n",
       "       '2025-04-10T12:17:14.214018', '2025-04-10T12:17:15.988125',\n",
       "       '2025-04-10T12:17:17.681690', '2025-04-10T12:17:19.456761',\n",
       "       '2025-04-10T12:17:21.175363', '2025-04-10T12:17:22.903205',\n",
       "       '2025-04-10T12:17:24.684829', '2025-04-10T12:17:26.472827',\n",
       "       '2025-04-10T12:17:28.234856', '2025-04-10T12:17:29.909359',\n",
       "       '2025-04-10T12:17:31.663372', '2025-04-10T12:17:33.426274',\n",
       "       '2025-04-10T12:17:35.166838', '2025-04-10T12:17:36.970415',\n",
       "       '2025-04-10T12:17:38.736958', '2025-04-10T12:17:40.495703',\n",
       "       '2025-04-10T12:17:42.158251', '2025-04-10T12:17:43.952163',\n",
       "       '2025-04-10T12:17:45.641240', '2025-04-10T12:17:47.413296',\n",
       "       '2025-04-10T12:17:49.197323'], dtype=object)"
      ]
     },
     "execution_count": 42,
     "metadata": {},
     "output_type": "execute_result"
    }
   ],
   "source": [
    "values_timestamp = df[\"timestamp\"].unique()\n",
    "values_timestamp"
   ]
  },
  {
   "cell_type": "code",
   "execution_count": 43,
   "id": "ffc867fb",
   "metadata": {},
   "outputs": [],
   "source": [
    "df['timestamp'] = pd.to_datetime(df['timestamp'])\n",
    "df['end_date'] = pd.to_datetime(df['end_date'], format='%Y-%m-%d')"
   ]
  },
  {
   "cell_type": "code",
   "execution_count": 44,
   "id": "9744ea94",
   "metadata": {},
   "outputs": [
    {
     "data": {
      "text/plain": [
       "artist_id                 object\n",
       "name                      object\n",
       "sort_name                 object\n",
       "type                      object\n",
       "country                   object\n",
       "begin_area                object\n",
       "begin_date                object\n",
       "end_date          datetime64[ns]\n",
       "genres                    object\n",
       "tags                      object\n",
       "release_groups            object\n",
       "timestamp         datetime64[ns]\n",
       "dtype: object"
      ]
     },
     "execution_count": 44,
     "metadata": {},
     "output_type": "execute_result"
    }
   ],
   "source": [
    "df.dtypes"
   ]
  },
  {
   "cell_type": "code",
   "execution_count": 45,
   "id": "9276350c",
   "metadata": {},
   "outputs": [
    {
     "data": {
      "text/html": [
       "<div>\n",
       "<style scoped>\n",
       "    .dataframe tbody tr th:only-of-type {\n",
       "        vertical-align: middle;\n",
       "    }\n",
       "\n",
       "    .dataframe tbody tr th {\n",
       "        vertical-align: top;\n",
       "    }\n",
       "\n",
       "    .dataframe thead th {\n",
       "        text-align: right;\n",
       "    }\n",
       "</style>\n",
       "<table border=\"1\" class=\"dataframe\">\n",
       "  <thead>\n",
       "    <tr style=\"text-align: right;\">\n",
       "      <th></th>\n",
       "      <th>count</th>\n",
       "      <th>mean</th>\n",
       "      <th>min</th>\n",
       "      <th>25%</th>\n",
       "      <th>50%</th>\n",
       "      <th>75%</th>\n",
       "      <th>max</th>\n",
       "    </tr>\n",
       "  </thead>\n",
       "  <tbody>\n",
       "    <tr>\n",
       "      <th>end_date</th>\n",
       "      <td>0</td>\n",
       "      <td>NaT</td>\n",
       "      <td>NaT</td>\n",
       "      <td>NaT</td>\n",
       "      <td>NaT</td>\n",
       "      <td>NaT</td>\n",
       "      <td>NaT</td>\n",
       "    </tr>\n",
       "    <tr>\n",
       "      <th>timestamp</th>\n",
       "      <td>25</td>\n",
       "      <td>2025-04-10 12:17:28.193457152</td>\n",
       "      <td>2025-04-10 12:17:07.108799</td>\n",
       "      <td>2025-04-10 12:17:17.681690112</td>\n",
       "      <td>2025-04-10 12:17:28.234855936</td>\n",
       "      <td>2025-04-10 12:17:38.736957952</td>\n",
       "      <td>2025-04-10 12:17:49.197323</td>\n",
       "    </tr>\n",
       "  </tbody>\n",
       "</table>\n",
       "</div>"
      ],
      "text/plain": [
       "          count                           mean                         min  \\\n",
       "end_date      0                            NaT                         NaT   \n",
       "timestamp    25  2025-04-10 12:17:28.193457152  2025-04-10 12:17:07.108799   \n",
       "\n",
       "                                     25%                            50%  \\\n",
       "end_date                             NaT                            NaT   \n",
       "timestamp  2025-04-10 12:17:17.681690112  2025-04-10 12:17:28.234855936   \n",
       "\n",
       "                                     75%                         max  \n",
       "end_date                             NaT                         NaT  \n",
       "timestamp  2025-04-10 12:17:38.736957952  2025-04-10 12:17:49.197323  "
      ]
     },
     "execution_count": 45,
     "metadata": {},
     "output_type": "execute_result"
    }
   ],
   "source": [
    "df.describe().T"
   ]
  },
  {
   "cell_type": "code",
   "execution_count": 46,
   "id": "a736a592",
   "metadata": {},
   "outputs": [
    {
     "data": {
      "image/png": "[encoded data removed]",
      "text/plain": [
       "<Figure size 640x480 with 1 Axes>"
      ]
     },
     "metadata": {},
     "output_type": "display_data"
    }
   ],
   "source": [
    "df['type'].value_counts().plot(kind='bar', title='Artist Types')\n",
    "plt.xlabel('Type')\n",
    "plt.ylabel('Count')\n",
    "plt.tight_layout()\n",
    "plt.show()"
   ]
  },
  {
   "cell_type": "code",
   "execution_count": 47,
   "id": "a46efc09",
   "metadata": {},
   "outputs": [
    {
     "data": {
      "image/png": "[encoded data removed]",
      "text/plain": [
       "<Figure size 640x480 with 1 Axes>"
      ]
     },
     "metadata": {},
     "output_type": "display_data"
    }
   ],
   "source": [
    "df['country'].value_counts().head(10).plot(kind='bar', title='Top 10 Countries by Artist Count')\n",
    "plt.xlabel('Country')\n",
    "plt.ylabel('Number of Artists')\n",
    "plt.tight_layout()\n",
    "plt.show()\n"
   ]
  },
  {
   "cell_type": "code",
   "execution_count": 49,
   "id": "a70878cf",
   "metadata": {},
   "outputs": [
    {
     "name": "stdout",
     "output_type": "stream",
     "text": [
      "No hay datos válidos en 'end_date' para graficar.\n"
     ]
    }
   ],
   "source": [
    "if df['end_date'].notna().sum() > 0:\n",
    "    df['end_date'].dt.year.value_counts().sort_index().plot(\n",
    "        kind='bar', \n",
    "        title='Career End Year Distribution'\n",
    "    )\n",
    "    plt.xlabel('Year')\n",
    "    plt.ylabel('Number of Artists Ended')\n",
    "    plt.tight_layout()\n",
    "    plt.show()\n",
    "else:\n",
    "    print(\"No hay datos válidos en 'end_date' para graficar.\")\n"
   ]
  },
  {
   "cell_type": "code",
   "execution_count": null,
   "id": "b7c2b13c",
   "metadata": {},
   "outputs": [
    {
     "data": {
      "image/png": "[encoded data removed]",
      "text/plain": [
       "<Figure size 640x480 with 1 Axes>"
      ]
     },
     "metadata": {},
     "output_type": "display_data"
    }
   ],
   "source": [
    "genre_counts = Counter()\n",
    "df['genres'].dropna().apply(lambda x: genre_counts.update(x.split(',')))\n",
    "pd.Series(dict(genre_counts)).sort_values(ascending=False).head(10).plot(kind='bar', title='Top 10 Genres')\n",
    "plt.xlabel('Genre')\n",
    "plt.ylabel('Count')\n",
    "plt.tight_layout()\n",
    "plt.show()\n"
   ]
  }
 ],
 "metadata": {
  "kernelspec": {
   "display_name": "venv",
   "language": "python",
   "name": "python3"
  },
  "language_info": {
   "codemirror_mode": {
    "name": "ipython",
    "version": 3
   },
   "file_extension": ".py",
   "mimetype": "text/x-python",
   "name": "python",
   "nbconvert_exporter": "python",
   "pygments_lexer": "ipython3",
   "version": "3.12.3"
  }
 },
 "nbformat": 4,
 "nbformat_minor": 5
}
