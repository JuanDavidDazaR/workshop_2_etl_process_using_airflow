{
 "cells": [
  {
   "cell_type": "markdown",
   "metadata": {},
   "source": [
    "# EDA Grammys\n"
   ]
  },
  {
   "cell_type": "code",
   "execution_count": 8,
   "metadata": {},
   "outputs": [],
   "source": [
    "\n",
    "import sys\n",
    "import os\n",
    "sys.path.append(os.path.abspath(os.path.join(os.getcwd(), \"..\")))\n",
    "import pandas as pd\n",
    "import seaborn as sns\n",
    "import matplotlib.pyplot as plt\n",
    "import numpy as np\n",
    "from pipelines.workshop_2_etl_process_using_airflow.db_conection import connect_db\n"
   ]
  },
  {
   "cell_type": "code",
   "execution_count": 9,
   "metadata": {},
   "outputs": [],
   "source": [
    "\n",
    "engine = connect_db()"
   ]
  },
  {
   "cell_type": "code",
   "execution_count": 10,
   "metadata": {},
   "outputs": [
    {
     "name": "stdout",
     "output_type": "stream",
     "text": [
      "   year                              title               published_at  \\\n",
      "0  2019  62nd Annual GRAMMY Awards  (2019)  2020-05-19T05:10:28-07:00   \n",
      "1  2019  62nd Annual GRAMMY Awards  (2019)  2020-05-19T05:10:28-07:00   \n",
      "2  2019  62nd Annual GRAMMY Awards  (2019)  2020-05-19T05:10:28-07:00   \n",
      "3  2019  62nd Annual GRAMMY Awards  (2019)  2020-05-19T05:10:28-07:00   \n",
      "4  2019  62nd Annual GRAMMY Awards  (2019)  2020-05-19T05:10:28-07:00   \n",
      "\n",
      "                  updated_at            category     nominee         artist  \\\n",
      "0  2020-05-19T05:10:28-07:00  Record Of The Year     Bad Guy  Billie Eilish   \n",
      "1  2020-05-19T05:10:28-07:00  Record Of The Year     Hey, Ma       Bon Iver   \n",
      "2  2020-05-19T05:10:28-07:00  Record Of The Year     7 rings  Ariana Grande   \n",
      "3  2020-05-19T05:10:28-07:00  Record Of The Year  Hard Place         H.E.R.   \n",
      "4  2020-05-19T05:10:28-07:00  Record Of The Year        Talk         Khalid   \n",
      "\n",
      "                                             workers  \\\n",
      "0  Finneas O'Connell, producer; Rob Kinelski & Fi...   \n",
      "1  BJ Burton, Brad Cook, Chris Messina & Justin V...   \n",
      "2  Charles Anderson, Tommy Brown, Michael Foster ...   \n",
      "3  Rodney “Darkchild” Jerkins, producer; Joseph H...   \n",
      "4  Disclosure & Denis Kosiak, producers; Ingmar C...   \n",
      "\n",
      "                                                 img  winner  \n",
      "0  https://www.grammy.com/sites/com/files/styles/...    True  \n",
      "1  https://www.grammy.com/sites/com/files/styles/...    True  \n",
      "2  https://www.grammy.com/sites/com/files/styles/...    True  \n",
      "3  https://www.grammy.com/sites/com/files/styles/...    True  \n",
      "4  https://www.grammy.com/sites/com/files/styles/...    True  \n"
     ]
    }
   ],
   "source": [
    "\n",
    "df = pd.read_sql_query('SELECT * FROM \"grammyAwards\"', engine)\n",
    "print(df.head())"
   ]
  },
  {
   "cell_type": "code",
   "execution_count": 11,
   "metadata": {},
   "outputs": [
    {
     "data": {
      "text/plain": [
       "year            4810\n",
       "title           4810\n",
       "published_at    4810\n",
       "updated_at      4810\n",
       "category        4810\n",
       "nominee         4804\n",
       "artist          2970\n",
       "workers         2620\n",
       "img             3443\n",
       "winner          4810\n",
       "dtype: int64"
      ]
     },
     "execution_count": 11,
     "metadata": {},
     "output_type": "execute_result"
    }
   ],
   "source": [
    "\n",
    "df.count()"
   ]
  },
  {
   "cell_type": "code",
   "execution_count": 12,
   "metadata": {},
   "outputs": [
    {
     "data": {
      "text/plain": [
       "(4810, 10)"
      ]
     },
     "execution_count": 12,
     "metadata": {},
     "output_type": "execute_result"
    }
   ],
   "source": [
    "\n",
    "df.shape"
   ]
  },
  {
   "cell_type": "code",
   "execution_count": 13,
   "metadata": {},
   "outputs": [
    {
     "name": "stdout",
     "output_type": "stream",
     "text": [
      "year               0\n",
      "title              0\n",
      "published_at       0\n",
      "updated_at         0\n",
      "category           0\n",
      "nominee            6\n",
      "artist          1840\n",
      "workers         2190\n",
      "img             1367\n",
      "winner             0\n",
      "dtype: int64\n"
     ]
    }
   ],
   "source": [
    "\n",
    "print(df.isnull().sum())"
   ]
  },
  {
   "cell_type": "code",
   "execution_count": 14,
   "metadata": {},
   "outputs": [
    {
     "name": "stdout",
     "output_type": "stream",
     "text": [
      "year             int64\n",
      "title           object\n",
      "published_at    object\n",
      "updated_at      object\n",
      "category        object\n",
      "nominee         object\n",
      "artist          object\n",
      "workers         object\n",
      "img             object\n",
      "winner            bool\n",
      "dtype: object\n"
     ]
    }
   ],
   "source": [
    "\n",
    "print(df.dtypes)"
   ]
  },
  {
   "cell_type": "code",
   "execution_count": 15,
   "metadata": {},
   "outputs": [
    {
     "name": "stdout",
     "output_type": "stream",
     "text": [
      "                                    title               published_at  \\\n",
      "count                                4810                       4810   \n",
      "unique                                 62                          4   \n",
      "top     62nd Annual GRAMMY Awards  (2019)  2017-11-28T00:03:45-08:00   \n",
      "freq                                  433                       4205   \n",
      "\n",
      "                       updated_at          category       nominee  \\\n",
      "count                        4810              4810          4804   \n",
      "unique                         10               638          4131   \n",
      "top     2019-09-10T01:08:19-07:00  Song Of The Year  Robert Woods   \n",
      "freq                          778                70             7   \n",
      "\n",
      "                   artist                                  workers  \\\n",
      "count                2970                                     2620   \n",
      "unique               1658                                     2366   \n",
      "top     (Various Artists)  John Williams, composer (John Williams)   \n",
      "freq                   66                                       20   \n",
      "\n",
      "                                                      img  \n",
      "count                                                3443  \n",
      "unique                                               1463  \n",
      "top     https://www.grammy.com/sites/com/files/styles/...  \n",
      "freq                                                   26  \n"
     ]
    }
   ],
   "source": [
    "\n",
    "print(df.describe(include=\"object\"))"
   ]
  }
 ],
 "metadata": {
  "kernelspec": {
   "display_name": "py3_workshop_2_etl_process_using_airflow",
   "language": "python",
   "name": "py3_workshop_2_etl_process_using_airflow"
  },
  "language_info": {
   "codemirror_mode": {
    "name": "ipython",
    "version": 3
   },
   "file_extension": ".py",
   "mimetype": "text/x-python",
   "name": "python",
   "nbconvert_exporter": "python",
   "pygments_lexer": "ipython3",
   "version": "3.12.3"
  }
 },
 "nbformat": 4,
 "nbformat_minor": 2
}
